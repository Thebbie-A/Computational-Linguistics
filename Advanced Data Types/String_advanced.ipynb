{
 "cells": [
  {
   "cell_type": "markdown",
   "id": "423a1c33",
   "metadata": {},
   "source": [
    "String methods\n",
    "1. .lower()\n",
    "2. .upper()\n",
    "3. .Capitalize\n",
    "4. .find\n",
    "5. .strip"
   ]
  },
  {
   "cell_type": "code",
   "execution_count": 8,
   "id": "5b53873d",
   "metadata": {},
   "outputs": [
    {
     "name": "stdout",
     "output_type": "stream",
     "text": [
      "the house next to the market is very huge \n"
     ]
    }
   ],
   "source": [
    "word = \"the house next to the market        is very huge \"\n",
    "\n",
    "#lower\n",
    "print(word.lower())"
   ]
  },
  {
   "cell_type": "code",
   "execution_count": 4,
   "id": "a002a8f8",
   "metadata": {},
   "outputs": [
    {
     "name": "stdout",
     "output_type": "stream",
     "text": [
      "THE HOUSE NEXT TO THE MARKET IS VERY HUGE \n"
     ]
    }
   ],
   "source": [
    "print(word.upper())"
   ]
  },
  {
   "cell_type": "code",
   "execution_count": 7,
   "id": "a817ccfe",
   "metadata": {},
   "outputs": [
    {
     "name": "stdout",
     "output_type": "stream",
     "text": [
      "The house next to the market is very huge \n"
     ]
    }
   ],
   "source": [
    "print(word.capitalize())"
   ]
  },
  {
   "cell_type": "code",
   "execution_count": 11,
   "id": "7e42c5ce",
   "metadata": {},
   "outputs": [
    {
     "name": "stdout",
     "output_type": "stream",
     "text": [
      "4\n"
     ]
    }
   ],
   "source": [
    "print(word.find(\"house\"))"
   ]
  },
  {
   "cell_type": "code",
   "execution_count": 12,
   "id": "3d9c13a5",
   "metadata": {},
   "outputs": [
    {
     "name": "stdout",
     "output_type": "stream",
     "text": [
      "the house next to the market is very huge\n"
     ]
    }
   ],
   "source": [
    "print(word.strip())"
   ]
  },
  {
   "cell_type": "code",
   "execution_count": null,
   "id": "526895e4",
   "metadata": {},
   "outputs": [],
   "source": []
  }
 ],
 "metadata": {
  "kernelspec": {
   "display_name": "Python 3 (ipykernel)",
   "language": "python",
   "name": "python3"
  },
  "language_info": {
   "codemirror_mode": {
    "name": "ipython",
    "version": 3
   },
   "file_extension": ".py",
   "mimetype": "text/x-python",
   "name": "python",
   "nbconvert_exporter": "python",
   "pygments_lexer": "ipython3",
   "version": "3.11.5"
  }
 },
 "nbformat": 4,
 "nbformat_minor": 5
}
