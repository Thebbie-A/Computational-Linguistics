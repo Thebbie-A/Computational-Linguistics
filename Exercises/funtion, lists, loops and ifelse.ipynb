{
 "cells": [
  {
   "cell_type": "markdown",
   "id": "7ea466d4",
   "metadata": {},
   "source": [
    "In this exercise, you are going to clean a list and print the last element of the list\n",
    "The list is the following ones: [ \"dophin\", \"elephant\", \"monkey\",\"lion\", \"lion,\"elephant\",\"monkey\",,\"lion\",\"elephant\"\n",
    "\"monkey\",\"dolphin\", \"elephant\"]\n",
    "\n",
    "Task:\n",
    "Obtain the last item\n"
   ]
  },
  {
   "cell_type": "code",
   "execution_count": 7,
   "id": "07bcdaa0",
   "metadata": {},
   "outputs": [
    {
     "name": "stdout",
     "output_type": "stream",
     "text": [
      "elephant\n"
     ]
    }
   ],
   "source": [
    "animals= [ \"dolphin\", \"elephant\", \"monkey\",\"lion\", \"lion\",\"elephant\",\"monkey\",\"lion\",\"elephant\"\n",
    "\"monkey\",\"dolphin\", \"elephant\"]\n",
    "\n",
    "print(animals[-1])\n"
   ]
  },
  {
   "cell_type": "raw",
   "id": "4e2c3a41",
   "metadata": {},
   "source": [
    "In this exercise, you are going to clean a list and print the last element of the list using a function. The list should be \n",
    "the function single argument\n",
    "\n",
    "The list is the following ones: [\"dophin\", \"elephant\", \"monkey\",\"lion\", \"lion,\"elephant\",\"monkey\",,\"lion\",\"elephant\"\n",
    "\"monkey\",\"dolphin\", \"elephant\"]\n",
    "\n",
    "Task:\n",
    "1.Create a list\n",
    "2.Create a function\n",
    "3.Complete the function\n",
    "4.Return the last item on the list"
   ]
  },
  {
   "cell_type": "code",
   "execution_count": 22,
   "id": "726da9e6",
   "metadata": {},
   "outputs": [
    {
     "data": {
      "text/plain": [
       "'lion'"
      ]
     },
     "execution_count": 22,
     "metadata": {},
     "output_type": "execute_result"
    }
   ],
   "source": [
    "animals= [ \"dolphin\", \"elephant\", \"monkey\",\"lion\", \"lion\",\"elephant\",\"monkey\",\"lion\",\"elephant\",\n",
    "\"monkey\",\"dolphin\", \"elephant\"]\n",
    "\n",
    "def cleaner(last_animal):\n",
    "    last_animal = list(set(last_animal))\n",
    "    return last_animal[-1]\n",
    "cleaner(animals)"
   ]
  },
  {
   "cell_type": "code",
   "execution_count": 23,
   "id": "3f464f5e",
   "metadata": {},
   "outputs": [
    {
     "data": {
      "text/plain": [
       "' This is a beautiful lion ,king of the animal kingdom '"
      ]
     },
     "execution_count": 23,
     "metadata": {},
     "output_type": "execute_result"
    }
   ],
   "source": [
    "animals= [ \"dolphin\", \"elephant\", \"monkey\",\"lion\", \"lion\",\"elephant\",\"monkey\",\"lion\",\"elephant\",\n",
    "\"monkey\",\"dolphin\", \"elephant\"]\n",
    "\n",
    "def animals(name):\n",
    "    name = \" This is a beautiful \" + name + \" ,king of the animal kingdom \"\n",
    "    return name\n",
    "animals(\"lion\")"
   ]
  },
  {
   "cell_type": "markdown",
   "id": "4041a147",
   "metadata": {},
   "source": [
    "In this exercise you are going to count how many times each item appears in the list, and then print the final results.\n",
    "\n",
    "animals= [\"dolphin\", \"elephant\", \"monkey\",\"lion\", \"lion\",\"elephant\",\"monkey\",\"lion\",\"elephant\",\n",
    "\"monkey\",\"dolphin\", \"elephant\"]\n",
    "\n",
    "\n",
    "Tips:\n",
    "1.Create a final loop that covers all item in the list\n",
    "2.check what is the value of that element in the list\n",
    "3.if its in the list, increase the counter for each unique word"
   ]
  },
  {
   "cell_type": "code",
   "execution_count": 42,
   "id": "b018f7a6",
   "metadata": {},
   "outputs": [
    {
     "name": "stdout",
     "output_type": "stream",
     "text": [
      "{'dolphin': 2, 'elephant': 4, 'monkey': 3, 'lion': 3}\n"
     ]
    }
   ],
   "source": [
    "animals= [\"dolphin\", \"elephant\", \"monkey\",\"lion\", \"lion\",\"elephant\",\"monkey\",\"lion\",\"elephant\",\n",
    "\"monkey\",\"dolphin\", \"elephant\"]\n",
    "\n",
    "animals_count = {}\n",
    "for animal in animals:\n",
    "    if animal in animals_count:\n",
    "        animals_count[animal] =+  1\n",
    "    else:\n",
    "        animals_count[animal] = 1\n",
    "print(animal_count)\n",
    "    \n",
    "   "
   ]
  },
  {
   "cell_type": "code",
   "execution_count": 41,
   "id": "f1fca1ce",
   "metadata": {},
   "outputs": [
    {
     "name": "stdout",
     "output_type": "stream",
     "text": [
      "{'dolphin': 2, 'elephant': 4, 'monkey': 3, 'lion': 3}\n"
     ]
    }
   ],
   "source": [
    "# Given list of animals\n",
    "animals = [\"dolphin\", \"elephant\", \"monkey\", \"lion\", \"lion\", \"elephant\", \"monkey\", \"lion\", \"elephant\",\n",
    "           \"monkey\", \"dolphin\", \"elephant\"]\n",
    "\n",
    "# Step 1: Initialize a dictionary to store the count of each animal\n",
    "animal_count = {}\n",
    "\n",
    "# Step 2: Loop through each animal in the list\n",
    "for animal in animals:\n",
    "    # Step 3: Check if the animal is already in the dictionary\n",
    "    if animal in animal_count:\n",
    "        # Step 4: Increase the count for the animal\n",
    "        animal_count[animal] += 1\n",
    "    else:\n",
    "        # Add the animal to the dictionary with a count of 1\n",
    "        animal_count[animal] = 1\n",
    "\n",
    "# Step 5: Print the final count of each animal\n",
    "print(animal_count)\n"
   ]
  },
  {
   "cell_type": "code",
   "execution_count": null,
   "id": "bf67c3b6",
   "metadata": {},
   "outputs": [],
   "source": []
  }
 ],
 "metadata": {
  "kernelspec": {
   "display_name": "Python 3 (ipykernel)",
   "language": "python",
   "name": "python3"
  },
  "language_info": {
   "codemirror_mode": {
    "name": "ipython",
    "version": 3
   },
   "file_extension": ".py",
   "mimetype": "text/x-python",
   "name": "python",
   "nbconvert_exporter": "python",
   "pygments_lexer": "ipython3",
   "version": "3.11.5"
  }
 },
 "nbformat": 4,
 "nbformat_minor": 5
}
