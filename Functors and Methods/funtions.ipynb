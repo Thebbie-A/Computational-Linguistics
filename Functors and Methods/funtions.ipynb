{
 "cells": [
  {
   "cell_type": "markdown",
   "id": "89cbfca6",
   "metadata": {},
   "source": [
    "# Defining a function"
   ]
  },
  {
   "cell_type": "code",
   "execution_count": 33,
   "id": "f797edf2",
   "metadata": {},
   "outputs": [
    {
     "data": {
      "text/plain": [
       "'Sartre'"
      ]
     },
     "execution_count": 33,
     "metadata": {},
     "output_type": "execute_result"
    }
   ],
   "source": [
    "def welcome(surname):\n",
    "    name = \" Hello \" + surname\n",
    "    return  surname\n",
    "\n",
    "welcome(\"Sartre\")\n"
   ]
  },
  {
   "cell_type": "code",
   "execution_count": 36,
   "id": "6d54f7bb",
   "metadata": {},
   "outputs": [
    {
     "name": "stdout",
     "output_type": "stream",
     "text": [
      " Hello, Sartre  is one of the renowed Existentialist\n"
     ]
    }
   ],
   "source": [
    "def linguist(name):\n",
    "    print(\" Hello, \" + name, \" is one of the renowed Existentialist\")\n",
    "\n",
    "linguist(\"Sartre\")"
   ]
  },
  {
   "cell_type": "code",
   "execution_count": 40,
   "id": "3bec5850",
   "metadata": {},
   "outputs": [
    {
     "data": {
      "text/plain": [
       "101"
      ]
     },
     "execution_count": 40,
     "metadata": {},
     "output_type": "execute_result"
    }
   ],
   "source": [
    "def sequence(integer):\n",
    "    integer += 9\n",
    "    return integer\n",
    "sequence(92)"
   ]
  },
  {
   "cell_type": "code",
   "execution_count": null,
   "id": "9dad5cc6",
   "metadata": {},
   "outputs": [],
   "source": []
  }
 ],
 "metadata": {
  "kernelspec": {
   "display_name": "Python 3 (ipykernel)",
   "language": "python",
   "name": "python3"
  },
  "language_info": {
   "codemirror_mode": {
    "name": "ipython",
    "version": 3
   },
   "file_extension": ".py",
   "mimetype": "text/x-python",
   "name": "python",
   "nbconvert_exporter": "python",
   "pygments_lexer": "ipython3",
   "version": "3.11.5"
  }
 },
 "nbformat": 4,
 "nbformat_minor": 5
}
