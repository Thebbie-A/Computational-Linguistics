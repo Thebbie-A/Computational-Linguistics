{
 "cells": [
  {
   "cell_type": "code",
   "execution_count": 10,
   "id": "a4e287d2",
   "metadata": {},
   "outputs": [
    {
     "name": "stdout",
     "output_type": "stream",
     "text": [
      "Roger Blench livestock lingustic book was published in 1998 which cost $99.7\n",
      "False\n"
     ]
    }
   ],
   "source": [
    "linguistname = \"Roger Blench\"\n",
    "yearbook = 1998\n",
    "amount = 99.7\n",
    "\n",
    "print(f\"{linguistname} livestock lingustic book was published in {yearbook} which cost ${amount}\" )\n",
    "print(amount == 99)\n"
   ]
  },
  {
   "cell_type": "code",
   "execution_count": 11,
   "id": "2515db93",
   "metadata": {},
   "outputs": [],
   "source": [
    "name = \"Thebbie\"\n",
    "age = 30\n",
    "salary = 1900.9"
   ]
  },
  {
   "cell_type": "code",
   "execution_count": 12,
   "id": "98dbb1ff",
   "metadata": {},
   "outputs": [
    {
     "name": "stdout",
     "output_type": "stream",
     "text": [
      "Thebbie is 30years old and earns 1500.9 each month\n"
     ]
    }
   ],
   "source": [
    "print(f\"{name} is {age} years old and earns {salary} each month\")"
   ]
  },
  {
   "cell_type": "code",
   "execution_count": 13,
   "id": "48faf9dc",
   "metadata": {},
   "outputs": [
    {
     "name": "stdout",
     "output_type": "stream",
     "text": [
      "thebbiethebbiethebbiethebbiethebbie\n"
     ]
    }
   ],
   "source": [
    "name = \"thebbie\"\n",
    "num = 5\n",
    "print(name * num)"
   ]
  },
  {
   "cell_type": "code",
   "execution_count": 14,
   "id": "7ab50acc",
   "metadata": {},
   "outputs": [
    {
     "name": "stdout",
     "output_type": "stream",
     "text": [
      "5.0\n"
     ]
    },
    {
     "data": {
      "text/plain": [
       "float"
      ]
     },
     "execution_count": 14,
     "metadata": {},
     "output_type": "execute_result"
    }
   ],
   "source": [
    "num = float(num)\n",
    "print(num)\n",
    "type(num)"
   ]
  },
  {
   "cell_type": "code",
   "execution_count": null,
   "id": "5bef9d3a",
   "metadata": {},
   "outputs": [],
   "source": []
  }
 ],
 "metadata": {
  "kernelspec": {
   "display_name": "Python 3 (ipykernel)",
   "language": "python",
   "name": "python3"
  },
  "language_info": {
   "codemirror_mode": {
    "name": "ipython",
    "version": 3
   },
   "file_extension": ".py",
   "mimetype": "text/x-python",
   "name": "python",
   "nbconvert_exporter": "python",
   "pygments_lexer": "ipython3",
   "version": "3.11.5"
  }
 },
 "nbformat": 4,
 "nbformat_minor": 5
}
