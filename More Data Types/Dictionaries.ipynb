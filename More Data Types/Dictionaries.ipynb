{
 "cells": [
  {
   "cell_type": "code",
   "execution_count": 15,
   "id": "1e958410",
   "metadata": {},
   "outputs": [
    {
     "name": "stdout",
     "output_type": "stream",
     "text": [
      "{'First_Name': 'Jean', 'Last_Name': 'Paul Sartre', 'Book_Name': 'Extistentialism', 'Year': 1998}\n"
     ]
    }
   ],
   "source": [
    "linguist = {\"First_Name\": \"Jean\", \"Last_Name\":\"Paul Sartre\", \"Book_Name\":\"Extistentialism\", \"Year\": 1987}\n",
    "linguist[\"Year\"] = 1998\n",
    "linguist.keys()\n",
    "linguist.get(\"First_Name\")\n",
    "print(linguist)"
   ]
  },
  {
   "cell_type": "code",
   "execution_count": null,
   "id": "abb9084b",
   "metadata": {},
   "outputs": [],
   "source": []
  }
 ],
 "metadata": {
  "kernelspec": {
   "display_name": "Python 3 (ipykernel)",
   "language": "python",
   "name": "python3"
  },
  "language_info": {
   "codemirror_mode": {
    "name": "ipython",
    "version": 3
   },
   "file_extension": ".py",
   "mimetype": "text/x-python",
   "name": "python",
   "nbconvert_exporter": "python",
   "pygments_lexer": "ipython3",
   "version": "3.11.5"
  }
 },
 "nbformat": 4,
 "nbformat_minor": 5
}
