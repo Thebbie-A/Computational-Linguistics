{
 "cells": [
  {
   "cell_type": "markdown",
   "id": "74f8e6cf",
   "metadata": {},
   "source": [
    "In this exercise, you are going to clean a list and print the last element of the list\n",
    "The list is the following ones: [ \"dophin\", \"elephant\", \"monkey\",\"lion\", \"lion,\"elephant\",\"monkey\",,\"lion\",\"elephant\"\n",
    "\"monkey\",\"dolphin\", \"elephant\"]\n",
    "\n",
    "Task:\n",
    "Obtain the last item\n"
   ]
  },
  {
   "cell_type": "code",
   "execution_count": 7,
   "id": "73193ed1",
   "metadata": {},
   "outputs": [
    {
     "name": "stdout",
     "output_type": "stream",
     "text": [
      "elephant\n"
     ]
    }
   ],
   "source": [
    "animals= [ \"dolphin\", \"elephant\", \"monkey\",\"lion\", \"lion\",\"elephant\",\"monkey\",\"lion\",\"elephant\"\n",
    "\"monkey\",\"dolphin\", \"elephant\"]\n",
    "\n",
    "print(animals[-1])\n"
   ]
  },
  {
   "cell_type": "raw",
   "id": "bde157ee",
   "metadata": {},
   "source": [
    "In this exercise, you are going to clean a list and print the last element of the list using a function. The list should be \n",
    "the function single argument\n",
    "\n",
    "The list is the following ones: [\"dophin\", \"elephant\", \"monkey\",\"lion\", \"lion,\"elephant\",\"monkey\",,\"lion\",\"elephant\"\n",
    "\"monkey\",\"dolphin\", \"elephant\"]\n",
    "\n",
    "Task:\n",
    "1.Create a list\n",
    "2.Create a function\n",
    "3.Complete the function\n",
    "4.Return the last item on the list"
   ]
  },
  {
   "cell_type": "code",
   "execution_count": 22,
   "id": "74035437",
   "metadata": {},
   "outputs": [
    {
     "data": {
      "text/plain": [
       "'lion'"
      ]
     },
     "execution_count": 22,
     "metadata": {},
     "output_type": "execute_result"
    }
   ],
   "source": [
    "animals= [ \"dolphin\", \"elephant\", \"monkey\",\"lion\", \"lion\",\"elephant\",\"monkey\",\"lion\",\"elephant\",\n",
    "\"monkey\",\"dolphin\", \"elephant\"]\n",
    "\n",
    "def cleaner(last_animal):\n",
    "    last_animal = list(set(last_animal))\n",
    "    return last_animal[-1]\n",
    "cleaner(animals)"
   ]
  },
  {
   "cell_type": "code",
   "execution_count": 23,
   "id": "c6c49deb",
   "metadata": {},
   "outputs": [
    {
     "data": {
      "text/plain": [
       "' This is a beautiful lion ,king of the animal kingdom '"
      ]
     },
     "execution_count": 23,
     "metadata": {},
     "output_type": "execute_result"
    }
   ],
   "source": [
    "animals= [ \"dolphin\", \"elephant\", \"monkey\",\"lion\", \"lion\",\"elephant\",\"monkey\",\"lion\",\"elephant\",\n",
    "\"monkey\",\"dolphin\", \"elephant\"]\n",
    "\n",
    "def animals(name):\n",
    "    name = \" This is a beautiful \" + name + \" ,king of the animal kingdom \"\n",
    "    return name\n",
    "animals(\"lion\")"
   ]
  },
  {
   "cell_type": "markdown",
   "id": "f436868f",
   "metadata": {},
   "source": [
    "In this exercise you are going to count how many times each item appears in the list, and then print the final results.\n",
    "\n",
    "animals= [ \"dolphin\", \"elephant\", \"monkey\",\"lion\", \"lion\",\"elephant\",\"monkey\",\"lion\",\"elephant\",\n",
    "\"monkey\",\"dolphin\", \"elephant\"]\n",
    "\n",
    "\n",
    "Tips:\n",
    "1.Create the final loop that covers all item in the list\n",
    "2.check what is the value of that element in the list\n",
    "3.if its in the list. increase the counter for each unique word"
   ]
  },
  {
   "cell_type": "code",
   "execution_count": null,
   "id": "f66f7bdb",
   "metadata": {},
   "outputs": [],
   "source": []
  }
 ],
 "metadata": {
  "kernelspec": {
   "display_name": "Python 3 (ipykernel)",
   "language": "python",
   "name": "python3"
  },
  "language_info": {
   "codemirror_mode": {
    "name": "ipython",
    "version": 3
   },
   "file_extension": ".py",
   "mimetype": "text/x-python",
   "name": "python",
   "nbconvert_exporter": "python",
   "pygments_lexer": "ipython3",
   "version": "3.11.5"
  }
 },
 "nbformat": 4,
 "nbformat_minor": 5
}
