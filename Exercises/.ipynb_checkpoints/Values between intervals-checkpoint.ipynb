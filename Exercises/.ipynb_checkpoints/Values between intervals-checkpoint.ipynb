{
 "cells": [
  {
   "cell_type": "markdown",
   "id": "a3cbe0b4",
   "metadata": {},
   "source": [
    "Values between Intervals\n",
    "\n",
    "1. Ask a user a number\n",
    "2. If the value is between 0 and 5, including both of them,print \"right value\"\n",
    "3. If not print \"Wrong value"
   ]
  },
  {
   "cell_type": "code",
   "execution_count": null,
   "id": "c7583455",
   "metadata": {},
   "outputs": [],
   "source": [
    "number = int(input(\"Enter a number: \"))\n",
    "if 0 >= number and number <= 5:  # or if 0 <= number and <=5\n",
    "    print(f\"Right Value\")\n",
    "else:\n",
    "    print(\"Wrong value\")\n",
    "    "
   ]
  },
  {
   "cell_type": "code",
   "execution_count": null,
   "id": "8b149271",
   "metadata": {},
   "outputs": [],
   "source": []
  },
  {
   "cell_type": "code",
   "execution_count": null,
   "id": "bc3615dc",
   "metadata": {},
   "outputs": [],
   "source": []
  }
 ],
 "metadata": {
  "kernelspec": {
   "display_name": "Python 3 (ipykernel)",
   "language": "python",
   "name": "python3"
  },
  "language_info": {
   "codemirror_mode": {
    "name": "ipython",
    "version": 3
   },
   "file_extension": ".py",
   "mimetype": "text/x-python",
   "name": "python",
   "nbconvert_exporter": "python",
   "pygments_lexer": "ipython3",
   "version": "3.11.5"
  }
 },
 "nbformat": 4,
 "nbformat_minor": 5
}
