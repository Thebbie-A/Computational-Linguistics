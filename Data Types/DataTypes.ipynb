{
 "cells": [
  {
   "cell_type": "code",
   "execution_count": 13,
   "id": "32f6c37a",
   "metadata": {},
   "outputs": [],
   "source": [
    "#strings\n",
    "first_name = \"Roger\"\n",
    "last_name = \"Blench\",\"Greenberg\", \"Bambose\"\n",
    "numerics = 2,3,5,6,7"
   ]
  },
  {
   "cell_type": "code",
   "execution_count": 8,
   "id": "d41afc1a",
   "metadata": {},
   "outputs": [
    {
     "name": "stdout",
     "output_type": "stream",
     "text": [
      "('Roger', 'Joseph', 'Ayo ') ('Blench', 'Greenberg', 'Bambose')\n"
     ]
    }
   ],
   "source": [
    "print(first_name, last_name)"
   ]
  },
  {
   "cell_type": "code",
   "execution_count": 16,
   "id": "a732e7cb",
   "metadata": {},
   "outputs": [
    {
     "data": {
      "text/plain": [
       "tuple"
      ]
     },
     "execution_count": 16,
     "metadata": {},
     "output_type": "execute_result"
    }
   ],
   "source": [
    "#functiontypes\n",
    "type(first_name)\n",
    "type(last_name)\n",
    "type(numerics)"
   ]
  },
  {
   "cell_type": "code",
   "execution_count": 18,
   "id": "0ad68d3c",
   "metadata": {},
   "outputs": [
    {
     "name": "stdout",
     "output_type": "stream",
     "text": [
      "50 99\n"
     ]
    }
   ],
   "source": [
    "#integers\n",
    "firstlingusit = 50\n",
    "secondlinguist = 99\n",
    "print(firstlingusit,secondlinguist)"
   ]
  },
  {
   "cell_type": "code",
   "execution_count": 19,
   "id": "b8727f74",
   "metadata": {},
   "outputs": [
    {
     "name": "stdout",
     "output_type": "stream",
     "text": [
      "200.9 99.7\n"
     ]
    }
   ],
   "source": [
    "#float\n",
    "salary = 200.9\n",
    "end_term = 99.7\n",
    "print(salary, end_term)"
   ]
  },
  {
   "cell_type": "code",
   "execution_count": 20,
   "id": "3dcfc7c3",
   "metadata": {},
   "outputs": [
    {
     "name": "stdout",
     "output_type": "stream",
     "text": [
      "False\n"
     ]
    }
   ],
   "source": [
    "#boolean\n",
    "print(4>9)"
   ]
  },
  {
   "cell_type": "code",
   "execution_count": 21,
   "id": "ed7f2958",
   "metadata": {},
   "outputs": [
    {
     "name": "stdout",
     "output_type": "stream",
     "text": [
      "True\n"
     ]
    }
   ],
   "source": [
    "print(100<1000)"
   ]
  },
  {
   "cell_type": "code",
   "execution_count": null,
   "id": "c6922a4e",
   "metadata": {},
   "outputs": [],
   "source": []
  }
 ],
 "metadata": {
  "kernelspec": {
   "display_name": "Python 3 (ipykernel)",
   "language": "python",
   "name": "python3"
  },
  "language_info": {
   "codemirror_mode": {
    "name": "ipython",
    "version": 3
   },
   "file_extension": ".py",
   "mimetype": "text/x-python",
   "name": "python",
   "nbconvert_exporter": "python",
   "pygments_lexer": "ipython3",
   "version": "3.11.5"
  }
 },
 "nbformat": 4,
 "nbformat_minor": 5
}
