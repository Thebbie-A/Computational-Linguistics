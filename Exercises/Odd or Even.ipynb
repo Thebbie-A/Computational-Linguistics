{
 "cells": [
  {
   "cell_type": "markdown",
   "id": "3be25ad2",
   "metadata": {},
   "source": [
    "# Even or Old Exercise\n",
    "\n",
    "1.Ask the user to input a number\n",
    "2.If odd, print the number is odd\n",
    "3.If even, print the number is even"
   ]
  },
  {
   "cell_type": "code",
   "execution_count": 5,
   "id": "4e370b47",
   "metadata": {},
   "outputs": [
    {
     "name": "stdout",
     "output_type": "stream",
     "text": [
      "Input a number 3\n",
      "3 is an Odd number\n"
     ]
    }
   ],
   "source": [
    "number = int(input(\"Input a number \"))\n",
    "if number %2 == 0:\n",
    "    print(f\" {number}is an even number\")\n",
    "else:\n",
    "    print(f\"{number} is an Odd number\")"
   ]
  },
  {
   "cell_type": "code",
   "execution_count": null,
   "id": "b3127d57",
   "metadata": {},
   "outputs": [],
   "source": []
  }
 ],
 "metadata": {
  "kernelspec": {
   "display_name": "Python 3 (ipykernel)",
   "language": "python",
   "name": "python3"
  },
  "language_info": {
   "codemirror_mode": {
    "name": "ipython",
    "version": 3
   },
   "file_extension": ".py",
   "mimetype": "text/x-python",
   "name": "python",
   "nbconvert_exporter": "python",
   "pygments_lexer": "ipython3",
   "version": "3.11.5"
  }
 },
 "nbformat": 4,
 "nbformat_minor": 5
}
