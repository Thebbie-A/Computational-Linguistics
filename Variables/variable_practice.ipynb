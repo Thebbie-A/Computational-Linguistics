{
 "cells": [
  {
   "cell_type": "code",
   "execution_count": null,
   "id": "e97107cd",
   "metadata": {},
   "outputs": [],
   "source": [
    "#Variable - a container for storing data.The container can be named in two different ways\n",
    "\n",
    " #Camelcase:example\n",
    "SchoolName = \"ucc\", \"knust\",\"legon\""
   ]
  },
  {
   "cell_type": "code",
   "execution_count": null,
   "id": "b788347d",
   "metadata": {},
   "outputs": [],
   "source": [
    "#snake_case\n",
    "school_name = \"ucc\",\"knust\",\"legon\""
   ]
  },
  {
   "cell_type": "code",
   "execution_count": 5,
   "id": "9067bf79",
   "metadata": {},
   "outputs": [],
   "source": [
    "#combining variables\n",
    "#Data cannot be stored or rodered without putting it in a container> Variablles are very important in keeping data save, \n",
    "#combining variables is an essential way of grouping all variables under one contianer\n",
    "\n",
    "var1 = \"mango\"\n",
    "var2 = \"apple\"\n",
    "var3 = \"orange\"\n",
    "allvars = var1 + var2 + var3"
   ]
  },
  {
   "cell_type": "code",
   "execution_count": 9,
   "id": "b3a2db3b",
   "metadata": {},
   "outputs": [
    {
     "name": "stdout",
     "output_type": "stream",
     "text": [
      "I am allergic to mango, and a fun of apple.\n"
     ]
    }
   ],
   "source": [
    "print(f\"I am allergic to {var1}, and a fun of {var2}.\")"
   ]
  },
  {
   "cell_type": "code",
   "execution_count": null,
   "id": "f834ce14",
   "metadata": {},
   "outputs": [],
   "source": []
  }
 ],
 "metadata": {
  "kernelspec": {
   "display_name": "Python 3 (ipykernel)",
   "language": "python",
   "name": "python3"
  },
  "language_info": {
   "codemirror_mode": {
    "name": "ipython",
    "version": 3
   },
   "file_extension": ".py",
   "mimetype": "text/x-python",
   "name": "python",
   "nbconvert_exporter": "python",
   "pygments_lexer": "ipython3",
   "version": "3.11.5"
  }
 },
 "nbformat": 4,
 "nbformat_minor": 5
}
