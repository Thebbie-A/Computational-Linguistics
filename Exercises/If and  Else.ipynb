{
 "cells": [
  {
   "cell_type": "code",
   "execution_count": 3,
   "id": "4c05a4af",
   "metadata": {},
   "outputs": [],
   "source": [
    "#The purpose of this excerise is to ask for the user age and check if the age is above 18 if not \n",
    "#check if the it will be 18 in 5 years.\n",
    "#1. Ask his/ her age\n",
    "#2. If the number is above 18, send a message that you are already an adult\n",
    "#3. If you are below 18, add 5\n",
    "#4.Print any possible results"
   ]
  },
  {
   "cell_type": "code",
   "execution_count": 15,
   "id": "5ab91406",
   "metadata": {},
   "outputs": [
    {
     "name": "stdout",
     "output_type": "stream",
     "text": [
      "What is your age? 40\n",
      "You are 40: You are already an adult\n"
     ]
    }
   ],
   "source": [
    "age = int(input(\"What is your age? \"))\n",
    "if age > 18:\n",
    "    print(f\"You are {age}: You are already an adult\")\n",
    "else:\n",
    "    if age + 5 > 18:\n",
    "        print(f\"In five years you will be {age + 5}: And you won't be an adult\")\n",
    "        \n",
    "    else:\n",
    "        print(f\"In five years you will be {age + 5}: And you won't be an adult\")"
   ]
  },
  {
   "cell_type": "code",
   "execution_count": null,
   "id": "1c286d63",
   "metadata": {},
   "outputs": [],
   "source": []
  },
  {
   "cell_type": "code",
   "execution_count": null,
   "id": "ccd501c4",
   "metadata": {},
   "outputs": [],
   "source": []
  }
 ],
 "metadata": {
  "kernelspec": {
   "display_name": "Python 3 (ipykernel)",
   "language": "python",
   "name": "python3"
  },
  "language_info": {
   "codemirror_mode": {
    "name": "ipython",
    "version": 3
   },
   "file_extension": ".py",
   "mimetype": "text/x-python",
   "name": "python",
   "nbconvert_exporter": "python",
   "pygments_lexer": "ipython3",
   "version": "3.11.5"
  }
 },
 "nbformat": 4,
 "nbformat_minor": 5
}
