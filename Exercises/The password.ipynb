{
 "cells": [
  {
   "cell_type": "markdown",
   "id": "ac97ade4",
   "metadata": {},
   "source": [
    "The password\n",
    "\n",
    "The secret password is 1234. Ask the user and check if that is the correct or wrong password. Let the user know\n",
    "Ask the user for a password\n",
    "If correct, print \"correct\"\n",
    "If incorrect, print the mistaken password and \"wrong password\""
   ]
  },
  {
   "cell_type": "code",
   "execution_count": 7,
   "id": "003c3325",
   "metadata": {},
   "outputs": [
    {
     "name": "stdout",
     "output_type": "stream",
     "text": [
      "Enter password: 1234\n",
      "Correct password\n"
     ]
    }
   ],
   "source": [
    "secret_passcode = 1234\n",
    "user_password = int(input(\"Enter password: \"))\n",
    "if secret_passcode == user_password:\n",
    "    print(f\"Correct password\")\n",
    "\n",
    "else:\n",
    "    print(\"Sorry, worng password\")"
   ]
  },
  {
   "cell_type": "code",
   "execution_count": null,
   "id": "ba9e437b",
   "metadata": {},
   "outputs": [],
   "source": []
  },
  {
   "cell_type": "code",
   "execution_count": null,
   "id": "837007a5",
   "metadata": {},
   "outputs": [],
   "source": []
  },
  {
   "cell_type": "code",
   "execution_count": null,
   "id": "ecc042e4",
   "metadata": {},
   "outputs": [],
   "source": []
  },
  {
   "cell_type": "code",
   "execution_count": null,
   "id": "f36e0a32",
   "metadata": {},
   "outputs": [],
   "source": []
  }
 ],
 "metadata": {
  "kernelspec": {
   "display_name": "Python 3 (ipykernel)",
   "language": "python",
   "name": "python3"
  },
  "language_info": {
   "codemirror_mode": {
    "name": "ipython",
    "version": 3
   },
   "file_extension": ".py",
   "mimetype": "text/x-python",
   "name": "python",
   "nbconvert_exporter": "python",
   "pygments_lexer": "ipython3",
   "version": "3.11.5"
  }
 },
 "nbformat": 4,
 "nbformat_minor": 5
}
