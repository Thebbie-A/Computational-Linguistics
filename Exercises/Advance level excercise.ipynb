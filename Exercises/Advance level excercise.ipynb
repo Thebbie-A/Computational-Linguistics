{
 "cells": [
  {
   "cell_type": "markdown",
   "id": "fa7393ee",
   "metadata": {},
   "source": [
    "check if someone is an adult or he/she will be an adult in n years\n",
    "\n",
    "Ask his/her age\n",
    "Ask the period of time\n",
    "Check if the age or the age plus the period of time is above 18\n",
    "print all options as in above cells\n",
    "\n",
    "\n",
    "nb: in programmming language, n stand for number"
   ]
  },
  {
   "cell_type": "code",
   "execution_count": 4,
   "id": "ac72a9bc",
   "metadata": {},
   "outputs": [
    {
     "name": "stdout",
     "output_type": "stream",
     "text": [
      "What is your age? 12\n",
      "Enter a period of time? 4\n",
      "You are 4 years, you will be 16 and you won't be an adult\n"
     ]
    }
   ],
   "source": [
    "age = int(input(\"What is your age? \"))\n",
    "\n",
    "if age > 18:\n",
    "    print(f\"You are {age}: You are an adult\")\n",
    "\n",
    "else:\n",
    "    period_of_time = int(input( \"Enter a period of time? \"))\n",
    "    if age + period_of_time > 18: \n",
    "            print(f\"You are {period_of_time}years, you will be {age + period_of_time} and you will be an adult\")\n",
    "    else:\n",
    "        print(f\"You are {period_of_time} years, you will be {age + period_of_time} and you won't be an adult\")\n",
    "    "
   ]
  },
  {
   "cell_type": "code",
   "execution_count": null,
   "id": "d679cc3a",
   "metadata": {},
   "outputs": [],
   "source": []
  },
  {
   "cell_type": "code",
   "execution_count": null,
   "id": "7680d723",
   "metadata": {},
   "outputs": [],
   "source": []
  }
 ],
 "metadata": {
  "kernelspec": {
   "display_name": "Python 3 (ipykernel)",
   "language": "python",
   "name": "python3"
  },
  "language_info": {
   "codemirror_mode": {
    "name": "ipython",
    "version": 3
   },
   "file_extension": ".py",
   "mimetype": "text/x-python",
   "name": "python",
   "nbconvert_exporter": "python",
   "pygments_lexer": "ipython3",
   "version": "3.11.5"
  }
 },
 "nbformat": 4,
 "nbformat_minor": 5
}
