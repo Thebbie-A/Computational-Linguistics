{
 "cells": [
  {
   "cell_type": "code",
   "execution_count": 5,
   "id": "1a36071c",
   "metadata": {},
   "outputs": [
    {
     "name": "stdout",
     "output_type": "stream",
     "text": [
      "['red', 'green', 'blue', 'lavender', 'peach', 'black']\n"
     ]
    }
   ],
   "source": [
    "colors = ['red','green','blue','lavender','peach']\n",
    "colors.append('black')\n",
    "print(colors)"
   ]
  },
  {
   "cell_type": "code",
   "execution_count": 6,
   "id": "b57235c0",
   "metadata": {},
   "outputs": [
    {
     "name": "stdout",
     "output_type": "stream",
     "text": [
      "black\n"
     ]
    }
   ],
   "source": [
    "print(colors[-1])"
   ]
  },
  {
   "cell_type": "code",
   "execution_count": 15,
   "id": "74ca9333",
   "metadata": {},
   "outputs": [
    {
     "name": "stdout",
     "output_type": "stream",
     "text": [
      "['red', 'green', 'white', 'white', 'white', 'white', 'blue', 'lavender', 'peach', 'black']\n"
     ]
    }
   ],
   "source": [
    "colors.insert(2,\"white\")\n",
    "print(colors)"
   ]
  },
  {
   "cell_type": "code",
   "execution_count": 21,
   "id": "8d482946",
   "metadata": {},
   "outputs": [
    {
     "name": "stdout",
     "output_type": "stream",
     "text": [
      "['red', 'green', 'white', 'white', 'white', 'blue', 'lavender', 'peach', 'black']\n"
     ]
    }
   ],
   "source": [
    "colors.remove(\"white\")\n",
    "print(colors)"
   ]
  },
  {
   "cell_type": "code",
   "execution_count": 22,
   "id": "ac80d500",
   "metadata": {},
   "outputs": [
    {
     "name": "stdout",
     "output_type": "stream",
     "text": [
      "[]\n"
     ]
    }
   ],
   "source": [
    "colors.clear()\n",
    "print(colors)"
   ]
  },
  {
   "cell_type": "code",
   "execution_count": null,
   "id": "801f362e",
   "metadata": {},
   "outputs": [],
   "source": []
  }
 ],
 "metadata": {
  "kernelspec": {
   "display_name": "Python 3 (ipykernel)",
   "language": "python",
   "name": "python3"
  },
  "language_info": {
   "codemirror_mode": {
    "name": "ipython",
    "version": 3
   },
   "file_extension": ".py",
   "mimetype": "text/x-python",
   "name": "python",
   "nbconvert_exporter": "python",
   "pygments_lexer": "ipython3",
   "version": "3.11.5"
  }
 },
 "nbformat": 4,
 "nbformat_minor": 5
}
