{
 "cells": [
  {
   "cell_type": "code",
   "execution_count": 2,
   "id": "215e2918",
   "metadata": {},
   "outputs": [
    {
     "name": "stdout",
     "output_type": "stream",
     "text": [
      "False\n",
      "True\n"
     ]
    }
   ],
   "source": [
    "#not\n",
    "print(not True)\n",
    "print(not False)"
   ]
  },
  {
   "cell_type": "code",
   "execution_count": 4,
   "id": "303552ad",
   "metadata": {},
   "outputs": [
    {
     "name": "stdout",
     "output_type": "stream",
     "text": [
      "True\n",
      "False\n"
     ]
    }
   ],
   "source": [
    "#AND: both/ all conditions needs to be true\n",
    "print(7==7 and 4==4 and 1==1)\n",
    "\n",
    "print(7==7 and 4==4 and 1==0)"
   ]
  },
  {
   "cell_type": "code",
   "execution_count": 6,
   "id": "3579dddf",
   "metadata": {},
   "outputs": [
    {
     "name": "stdout",
     "output_type": "stream",
     "text": [
      "True\n"
     ]
    }
   ],
   "source": [
    "#or: only one condition needs to be true\n",
    "print(8==9 or 3==5 or 4==4)"
   ]
  },
  {
   "cell_type": "code",
   "execution_count": null,
   "id": "0730703f",
   "metadata": {},
   "outputs": [],
   "source": []
  }
 ],
 "metadata": {
  "kernelspec": {
   "display_name": "Python 3 (ipykernel)",
   "language": "python",
   "name": "python3"
  },
  "language_info": {
   "codemirror_mode": {
    "name": "ipython",
    "version": 3
   },
   "file_extension": ".py",
   "mimetype": "text/x-python",
   "name": "python",
   "nbconvert_exporter": "python",
   "pygments_lexer": "ipython3",
   "version": "3.11.5"
  }
 },
 "nbformat": 4,
 "nbformat_minor": 5
}
