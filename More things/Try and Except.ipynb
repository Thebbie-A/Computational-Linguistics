{
 "cells": [
  {
   "cell_type": "code",
   "execution_count": 14,
   "id": "bb0df83a",
   "metadata": {},
   "outputs": [
    {
     "name": "stdout",
     "output_type": "stream",
     "text": [
      "There is an error in your code\n"
     ]
    }
   ],
   "source": [
    "set1= {\"1\",\"2\",\"3\",\"4\",\"5\"}\n",
    "try:\n",
    "    setl.append(\"6\")\n",
    "except:\n",
    "    print(\"There is an error in your code\")\n"
   ]
  },
  {
   "cell_type": "code",
   "execution_count": 16,
   "id": "8e9670ab",
   "metadata": {},
   "outputs": [
    {
     "name": "stdout",
     "output_type": "stream",
     "text": [
      "Error in this code\n"
     ]
    }
   ],
   "source": [
    "list1 = [\"veges\",\"fruits\",\"cereals\"]\n",
    "try:\n",
    "    list1.add(\"starchy\")\n",
    "    print(list1)\n",
    "except:\n",
    "    print(\"Error in this code\")"
   ]
  },
  {
   "cell_type": "code",
   "execution_count": null,
   "id": "89a89a29",
   "metadata": {},
   "outputs": [],
   "source": []
  }
 ],
 "metadata": {
  "kernelspec": {
   "display_name": "Python 3 (ipykernel)",
   "language": "python",
   "name": "python3"
  },
  "language_info": {
   "codemirror_mode": {
    "name": "ipython",
    "version": 3
   },
   "file_extension": ".py",
   "mimetype": "text/x-python",
   "name": "python",
   "nbconvert_exporter": "python",
   "pygments_lexer": "ipython3",
   "version": "3.11.5"
  }
 },
 "nbformat": 4,
 "nbformat_minor": 5
}
