{
 "cells": [
  {
   "cell_type": "code",
   "execution_count": 2,
   "id": "a48889ed",
   "metadata": {},
   "outputs": [
    {
     "name": "stdout",
     "output_type": "stream",
     "text": [
      "What is the name of the the Lingusit? Larry Hyman\n",
      "It was nice to meet you Larry\n"
     ]
    }
   ],
   "source": [
    "name = input(\"What is the name of the the Lingusit? \")\n",
    "\n",
    "print(f\"It was nice to meet you Larry\")"
   ]
  },
  {
   "cell_type": "code",
   "execution_count": null,
   "id": "286ea31d",
   "metadata": {},
   "outputs": [],
   "source": []
  }
 ],
 "metadata": {
  "kernelspec": {
   "display_name": "Python 3 (ipykernel)",
   "language": "python",
   "name": "python3"
  },
  "language_info": {
   "codemirror_mode": {
    "name": "ipython",
    "version": 3
   },
   "file_extension": ".py",
   "mimetype": "text/x-python",
   "name": "python",
   "nbconvert_exporter": "python",
   "pygments_lexer": "ipython3",
   "version": "3.11.5"
  }
 },
 "nbformat": 4,
 "nbformat_minor": 5
}
