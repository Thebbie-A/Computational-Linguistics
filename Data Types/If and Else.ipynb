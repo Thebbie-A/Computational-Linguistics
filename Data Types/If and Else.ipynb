{
 "cells": [
  {
   "cell_type": "code",
   "execution_count": 7,
   "id": "8996c838",
   "metadata": {},
   "outputs": [
    {
     "name": "stdout",
     "output_type": "stream",
     "text": [
      "Larry Hyman is one of the renowned linguist\n"
     ]
    }
   ],
   "source": [
    "larry_hyman = 1917\n",
    "azeb_amha = 1947\n",
    "\n",
    "if larry_hyman > azeb_amha:\n",
    "    print(f\"Larry Hyman was born in {larry_hyman}\")\n",
    "elif larry_hyman == azeb_amha:\n",
    "        print(f\"They are all linguists\")\n",
    "else:\n",
    "    print(f\"Larry Hyman is one of the renowned linguist\")"
   ]
  },
  {
   "cell_type": "code",
   "execution_count": null,
   "id": "ac4ac84d",
   "metadata": {},
   "outputs": [],
   "source": []
  }
 ],
 "metadata": {
  "kernelspec": {
   "display_name": "Python 3 (ipykernel)",
   "language": "python",
   "name": "python3"
  },
  "language_info": {
   "codemirror_mode": {
    "name": "ipython",
    "version": 3
   },
   "file_extension": ".py",
   "mimetype": "text/x-python",
   "name": "python",
   "nbconvert_exporter": "python",
   "pygments_lexer": "ipython3",
   "version": "3.11.5"
  }
 },
 "nbformat": 4,
 "nbformat_minor": 5
}
