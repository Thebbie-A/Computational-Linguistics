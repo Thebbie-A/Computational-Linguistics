{
 "cells": [
  {
   "cell_type": "code",
   "execution_count": 2,
   "id": "f4677184",
   "metadata": {},
   "outputs": [
    {
     "name": "stdout",
     "output_type": "stream",
     "text": [
      "4 is greater than 0\n",
      "3 is greater than 0\n",
      "2 is greater than 0\n",
      "1 is greater than 0\n",
      "0 is greater than 0\n"
     ]
    }
   ],
   "source": [
    "a = 4\n",
    "while a > 0:\n",
    "    print(f\"{a} is greater than 0\")\n",
    "    a -= 1\n",
    "print(f\"{a} is greater than 0\")"
   ]
  },
  {
   "cell_type": "code",
   "execution_count": null,
   "id": "33d9d2ac",
   "metadata": {},
   "outputs": [],
   "source": []
  },
  {
   "cell_type": "code",
   "execution_count": null,
   "id": "e9c7c1f9",
   "metadata": {},
   "outputs": [],
   "source": []
  },
  {
   "cell_type": "markdown",
   "id": "c7cfcac8",
   "metadata": {},
   "source": [
    "For loop"
   ]
  },
  {
   "cell_type": "code",
   "execution_count": 7,
   "id": "ae59d36a",
   "metadata": {},
   "outputs": [
    {
     "name": "stdout",
     "output_type": "stream",
     "text": [
      "One of the best!\n"
     ]
    }
   ],
   "source": [
    "linguists = \"Bugul\",\"Oyono\",\"Antione\"\n",
    "for ling_names in linguists:\n",
    "    if linguists == \"Antione\":\n",
    "        print(f\"He is a legend\")\n",
    "print(f\"One of the best!\") "
   ]
  },
  {
   "cell_type": "code",
   "execution_count": null,
   "id": "bdacd1b1",
   "metadata": {},
   "outputs": [],
   "source": []
  }
 ],
 "metadata": {
  "kernelspec": {
   "display_name": "Python 3 (ipykernel)",
   "language": "python",
   "name": "python3"
  },
  "language_info": {
   "codemirror_mode": {
    "name": "ipython",
    "version": 3
   },
   "file_extension": ".py",
   "mimetype": "text/x-python",
   "name": "python",
   "nbconvert_exporter": "python",
   "pygments_lexer": "ipython3",
   "version": "3.11.5"
  }
 },
 "nbformat": 4,
 "nbformat_minor": 5
}
