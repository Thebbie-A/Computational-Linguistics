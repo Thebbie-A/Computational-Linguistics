{
 "cells": [
  {
   "cell_type": "markdown",
   "id": "ac97ade4",
   "metadata": {},
   "source": [
    "The password\n",
    "\n",
    "The secret password is 1234. Ask the user and check if that is the correct or wrong password. Let the user know\n",
    "Ask the user for a password\n",
    "If correct, print \"correct\"\n",
    "If incorrect, print the mistaken password and \"wrong password\""
   ]
  },
  {
   "cell_type": "code",
   "execution_count": 6,
   "id": "003c3325",
   "metadata": {},
   "outputs": [
    {
     "name": "stdout",
     "output_type": "stream",
     "text": [
      "Enter password: ^6\n"
     ]
    },
    {
     "ename": "ValueError",
     "evalue": "invalid literal for int() with base 10: '^6'",
     "output_type": "error",
     "traceback": [
      "\u001b[1;31m---------------------------------------------------------------------------\u001b[0m",
      "\u001b[1;31mValueError\u001b[0m                                Traceback (most recent call last)",
      "Cell \u001b[1;32mIn[6], line 2\u001b[0m\n\u001b[0;32m      1\u001b[0m secret_passcode \u001b[38;5;241m=\u001b[39m \u001b[38;5;241m1234\u001b[39m\n\u001b[1;32m----> 2\u001b[0m user_password \u001b[38;5;241m=\u001b[39m \u001b[38;5;28mint\u001b[39m(\u001b[38;5;28minput\u001b[39m(\u001b[38;5;124m\"\u001b[39m\u001b[38;5;124mEnter password: \u001b[39m\u001b[38;5;124m\"\u001b[39m))\n\u001b[0;32m      3\u001b[0m max_attempt \u001b[38;5;241m=\u001b[39m \u001b[38;5;241m2\u001b[39m\n\u001b[0;32m      4\u001b[0m \u001b[38;5;28;01mif\u001b[39;00m secret_passcode \u001b[38;5;241m==\u001b[39m user_password:\n",
      "\u001b[1;31mValueError\u001b[0m: invalid literal for int() with base 10: '^6'"
     ]
    }
   ],
   "source": [
    "secret_passcode = 1234\n",
    "user_password = int(input(\"Enter password: \"))\n",
    "if secret_passcode == user_password:\n",
    "    print(f\"Correct password\")\n",
    "\n",
    "else:\n",
    "    print(\"Sorry, worng password\")"
   ]
  },
  {
   "cell_type": "code",
   "execution_count": null,
   "id": "ba9e437b",
   "metadata": {},
   "outputs": [],
   "source": []
  },
  {
   "cell_type": "code",
   "execution_count": null,
   "id": "837007a5",
   "metadata": {},
   "outputs": [],
   "source": []
  },
  {
   "cell_type": "code",
   "execution_count": null,
   "id": "ecc042e4",
   "metadata": {},
   "outputs": [],
   "source": []
  },
  {
   "cell_type": "code",
   "execution_count": null,
   "id": "f36e0a32",
   "metadata": {},
   "outputs": [],
   "source": []
  }
 ],
 "metadata": {
  "kernelspec": {
   "display_name": "Python 3 (ipykernel)",
   "language": "python",
   "name": "python3"
  },
  "language_info": {
   "codemirror_mode": {
    "name": "ipython",
    "version": 3
   },
   "file_extension": ".py",
   "mimetype": "text/x-python",
   "name": "python",
   "nbconvert_exporter": "python",
   "pygments_lexer": "ipython3",
   "version": "3.11.5"
  }
 },
 "nbformat": 4,
 "nbformat_minor": 5
}
