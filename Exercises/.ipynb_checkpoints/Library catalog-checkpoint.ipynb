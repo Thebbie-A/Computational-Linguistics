{
 "cells": [
  {
   "cell_type": "markdown",
   "id": "3e017e5c",
   "metadata": {},
   "source": [
    "Library catalog\n",
    "\n",
    "1.Ask a book title\n",
    "2.Ask a book author\n",
    "3.Assgin an ID between 1000 and 1999\n",
    "4.Ask the price of the book (must be in float)\n",
    "5.If the price is above 15, then the shipping fee is free\n",
    "6.If it doesn't then shipping fee cost 3\n",
    "7.Generate automatically the amout to pay"
   ]
  },
  {
   "cell_type": "code",
   "execution_count": 5,
   "id": "49cde832",
   "metadata": {},
   "outputs": [
    {
     "name": "stdout",
     "output_type": "stream",
     "text": [
      "Enter a book title: Cendre\n",
      "Enter the book author: Ken\n",
      "Assign an ID (between 1000 and 1999): 1998\n",
      "Enter the price of the book: 13\n",
      "\n",
      "      Cendre:\n",
      "      Ken\n",
      "      1998\n",
      "      16.0\n"
     ]
    }
   ],
   "source": [
    "book_name = input(\"Enter a book title: \")\n",
    "book_author = input(\"Enter the book author: \")\n",
    "book_ID = input(\"Assign an ID (between 1000 and 1999): \")\n",
    "price = float(input(\"Enter the price of the book: \"))\n",
    "if price > 15:\n",
    "    total_amout = price\n",
    "else:\n",
    "    price += 3\n",
    "    total_amoout = price\n",
    "print(f\"\"\"\n",
    "      {book_name}:\n",
    "      {book_author}\n",
    "      {book_ID}\n",
    "      {price}\"\"\")"
   ]
  },
  {
   "cell_type": "code",
   "execution_count": null,
   "id": "3201b695",
   "metadata": {},
   "outputs": [],
   "source": []
  }
 ],
 "metadata": {
  "kernelspec": {
   "display_name": "Python 3 (ipykernel)",
   "language": "python",
   "name": "python3"
  },
  "language_info": {
   "codemirror_mode": {
    "name": "ipython",
    "version": 3
   },
   "file_extension": ".py",
   "mimetype": "text/x-python",
   "name": "python",
   "nbconvert_exporter": "python",
   "pygments_lexer": "ipython3",
   "version": "3.11.5"
  }
 },
 "nbformat": 4,
 "nbformat_minor": 5
}
