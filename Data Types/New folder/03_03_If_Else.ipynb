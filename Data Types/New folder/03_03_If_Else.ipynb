{
 "cells": [
  {
   "cell_type": "code",
   "execution_count": 2,
   "metadata": {},
   "outputs": [
    {
     "name": "stdout",
     "output_type": "stream",
     "text": [
      "2 is less than 15\n"
     ]
    }
   ],
   "source": [
    "littleNumber = 2\n",
    "bigNumber = 15\n",
    "\n",
    "if littleNumber > bigNumber:\n",
    "    print(f\"{littleNumber} is grater than {bigNumber}.\")\n",
    "else:\n",
    "    print(f\"{littleNumber} is less than {bigNumber}\")"
   ]
  },
  {
   "cell_type": "code",
   "execution_count": 4,
   "metadata": {},
   "outputs": [
    {
     "name": "stdout",
     "output_type": "stream",
     "text": [
      "They are different\n"
     ]
    }
   ],
   "source": [
    "if \"home\" == \"home\":\n",
    "    print(\"They are the same\")\n",
    "else:\n",
    "    print(\"They are different\")"
   ]
  },
  {
   "cell_type": "code",
   "execution_count": null,
   "metadata": {},
   "outputs": [],
   "source": []
  }
 ],
 "metadata": {
  "kernelspec": {
   "display_name": "Python 3",
   "language": "python",
   "name": "python3"
  },
  "language_info": {
   "codemirror_mode": {
    "name": "ipython",
    "version": 3
   },
   "file_extension": ".py",
   "mimetype": "text/x-python",
   "name": "python",
   "nbconvert_exporter": "python",
   "pygments_lexer": "ipython3",
   "version": "3.8.3"
  }
 },
 "nbformat": 4,
 "nbformat_minor": 4
}
