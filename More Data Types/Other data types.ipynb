{
 "cells": [
  {
   "cell_type": "markdown",
   "id": "a1586daa",
   "metadata": {},
   "source": [
    "# List\n",
    "Tuple\n",
    "Dictionary\n",
    "Set\n",
    "\n"
   ]
  },
  {
   "cell_type": "code",
   "execution_count": 5,
   "id": "18989166",
   "metadata": {},
   "outputs": [
    {
     "name": "stdout",
     "output_type": "stream",
     "text": [
      "<class 'list'>\n",
      "['Ken Bugul', 'Ferdinard Oyo', 'Antione', 'Marcus Ayeye']\n"
     ]
    }
   ],
   "source": [
    "linguists = [\"Ken Bugul\",\"Ferdinard Oyo\",\"Antione\",\"Marcus Ayeye\"]\n",
    "print(type(linguists))\n",
    "print(linguists)"
   ]
  },
  {
   "cell_type": "code",
   "execution_count": 5,
   "id": "4d760d90",
   "metadata": {},
   "outputs": [
    {
     "name": "stdout",
     "output_type": "stream",
     "text": [
      "['Ken Bugul', 'Ferdinard Oyo', 'Antione', 'Marcus Ayeye', 'Jean Paul Sartre']\n"
     ]
    }
   ],
   "source": [
    "linguists = [\"Ken Bugul\",\"Ferdinard Oyo\",\"Antione\",\"Marcus Ayeye\"]\n",
    "#print(linguists[2])\n",
    "#print(linguists[-1])\n",
    "#print(linguists[:])\n",
    "#print(linguists[-3:])\n",
    "linguists.append(\"Jean Paul Sartre\")\n",
    "print(linguists)\n",
    "\n"
   ]
  },
  {
   "cell_type": "code",
   "execution_count": 4,
   "id": "8ca30214",
   "metadata": {},
   "outputs": [
    {
     "name": "stdout",
     "output_type": "stream",
     "text": [
      "This are lingusits from the 80s: namely ['Ken Bugul', 'Ferdinard Oyo', 'Antione', 'Marcus Ayeye']\n",
      "This are lingusits from the 80s: namely ['Ken Bugul', 'Ferdinard Oyo', 'Antione', 'Marcus Ayeye']\n",
      "This are lingusits from the 80s: namely ['Ken Bugul', 'Ferdinard Oyo', 'Antione', 'Marcus Ayeye']\n",
      "This are lingusits from the 80s: namely ['Ken Bugul', 'Ferdinard Oyo', 'Antione', 'Marcus Ayeye']\n"
     ]
    }
   ],
   "source": [
    "for writers in linguists:\n",
    "    print(f\"This are lingusits from the 80s: namely {linguists}\")"
   ]
  },
  {
   "cell_type": "code",
   "execution_count": 17,
   "id": "a83a8ec9",
   "metadata": {},
   "outputs": [
    {
     "name": "stdout",
     "output_type": "stream",
     "text": [
      "1.Ken Bugul\n",
      "2.Ferdinard Oyo\n",
      "3.Antione\n",
      "4.Marcus Ayeye\n"
     ]
    }
   ],
   "source": [
    "#number the writers\n",
    "counter = 1\n",
    "for writers in linguists:\n",
    "    print(f\"{counter}.{writers}\")\n",
    "    counter += 1"
   ]
  },
  {
   "cell_type": "markdown",
   "id": "7747775e",
   "metadata": {},
   "source": [
    "# Tuple"
   ]
  },
  {
   "cell_type": "code",
   "execution_count": 21,
   "id": "2b734776",
   "metadata": {},
   "outputs": [
    {
     "name": "stdout",
     "output_type": "stream",
     "text": [
      "<class 'tuple'>\n"
     ]
    }
   ],
   "source": [
    "linguists = (\"Ken Bugul\",\"Ferdinard Oyo\",\"Antione\",\"Marcus Ayeye\")\n",
    "print(type(linguists))"
   ]
  },
  {
   "cell_type": "code",
   "execution_count": 24,
   "id": "e9f86b4d",
   "metadata": {},
   "outputs": [
    {
     "name": "stdout",
     "output_type": "stream",
     "text": [
      "('Ferdinard Oyo', 'Antione')\n"
     ]
    }
   ],
   "source": [
    "linguists = (\"Ken Bugul\",\"Ferdinard Oyo\",\"Antione\",\"Marcus Ayeye\")\n",
    "print(linguists[1:3])"
   ]
  },
  {
   "cell_type": "code",
   "execution_count": 34,
   "id": "f2914db9",
   "metadata": {},
   "outputs": [
    {
     "name": "stdout",
     "output_type": "stream",
     "text": [
      "('Ken Bugul', 'Ferdinard Oyo', 'Jean Sartre', 'Marcus Ayeye')\n"
     ]
    }
   ],
   "source": [
    "#changing/ updatinng tuple using list\n",
    "linguists = (\"Ken Bugul\",\"Ferdinard Oyo\",\"Antione\",\"Marcus Ayeye\")\n",
    "ling = list(linguists)\n",
    "ling[2] = \"Jean Sartre\"\n",
    "linguists = tuple(ling)\n",
    "print(linguists)"
   ]
  },
  {
   "cell_type": "markdown",
   "id": "f1088b34",
   "metadata": {},
   "source": [
    "# Sets"
   ]
  },
  {
   "cell_type": "code",
   "execution_count": 1,
   "id": "feb4c859",
   "metadata": {},
   "outputs": [
    {
     "name": "stdout",
     "output_type": "stream",
     "text": [
      "True\n",
      "{'Ken Bugul', 'Marcus Ayeye', 'Antione', 'Ferdinard Oyo', 'Kudi'}\n"
     ]
    }
   ],
   "source": [
    "linguists = {\"Ken Bugul\",\"Ferdinard Oyo\",\"Antione\",\"Marcus Ayeye\"}\n",
    "print(\"Antione\" in linguists)\n",
    "linguists.add(\"Kudi\")\n",
    "print(linguists)"
   ]
  },
  {
   "cell_type": "code",
   "execution_count": 3,
   "id": "71d2032a",
   "metadata": {},
   "outputs": [
    {
     "name": "stdout",
     "output_type": "stream",
     "text": [
      "{'pineapple', 'apple', 'mango', 'banana', 'papaya', 'cherry'}\n"
     ]
    }
   ],
   "source": [
    "thisset = {\"apple\", \"banana\", \"cherry\"}\n",
    "tropical = {\"pineapple\", \"mango\", \"papaya\"}\n",
    "thisset.update(tropical)\n",
    "print(thisset)"
   ]
  },
  {
   "cell_type": "code",
   "execution_count": null,
   "id": "5ac8ab23",
   "metadata": {},
   "outputs": [],
   "source": []
  },
  {
   "cell_type": "code",
   "execution_count": null,
   "id": "8be70d6c",
   "metadata": {},
   "outputs": [],
   "source": []
  },
  {
   "cell_type": "code",
   "execution_count": null,
   "id": "b200bf6e",
   "metadata": {},
   "outputs": [],
   "source": []
  }
 ],
 "metadata": {
  "kernelspec": {
   "display_name": "Python 3 (ipykernel)",
   "language": "python",
   "name": "python3"
  },
  "language_info": {
   "codemirror_mode": {
    "name": "ipython",
    "version": 3
   },
   "file_extension": ".py",
   "mimetype": "text/x-python",
   "name": "python",
   "nbconvert_exporter": "python",
   "pygments_lexer": "ipython3",
   "version": "3.11.5"
  }
 },
 "nbformat": 4,
 "nbformat_minor": 5
}
